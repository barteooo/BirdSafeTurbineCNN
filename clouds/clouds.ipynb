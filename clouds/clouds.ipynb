{
 "cells": [
  {
   "cell_type": "markdown",
   "source": [
    "# Pakiety i wczytanie danych "
   ],
   "metadata": {
    "collapsed": false
   },
   "id": "880f80f0b15b0ec7"
  },
  {
   "cell_type": "code",
   "execution_count": 7,
   "outputs": [],
   "source": [
    "#Import pakietów \n",
    "import os \n",
    "import numpy as np \n",
    "from PIL import Image \n",
    "import tensorflow as tf \n",
    "import warnings \n",
    "warnings.filterwarnings(\"ignore\")"
   ],
   "metadata": {
    "collapsed": false,
    "ExecuteTime": {
     "end_time": "2024-05-14T19:51:29.955696Z",
     "start_time": "2024-05-14T19:51:29.952499Z"
    }
   },
   "id": "f10a8a8b8726ce7e"
  },
  {
   "cell_type": "code",
   "execution_count": 8,
   "outputs": [],
   "source": [
    "#Ścieżka do katalogu głównego\n",
    "data_dir = \"./clouds_confirm\" "
   ],
   "metadata": {
    "collapsed": false,
    "ExecuteTime": {
     "end_time": "2024-05-14T19:51:29.960300Z",
     "start_time": "2024-05-14T19:51:29.956209Z"
    }
   },
   "id": "ef54ea524bc1da8"
  },
  {
   "cell_type": "code",
   "execution_count": 17,
   "outputs": [],
   "source": [
    "def load_images_and_labels(data_dir): \n",
    "    images = [] \n",
    "    labels = [] \n",
    "    # przechodzenie przez każdy podkatalog w katalogu głównym\n",
    "    for folder in os.listdir(data_dir): \n",
    "        folder_path = os.path.join(data_dir,folder) \n",
    "        if os.path.isdir(folder_path):  \n",
    "            # przechodzenie przez każdy plik w podkatalogu \n",
    "            for file in os.listdir(folder_path): \n",
    "                file_path = os.path.join(folder_path, file) \n",
    "                # wczytanie obrazu \n",
    "                image = Image.open(file_path)\n",
    "                #normalizacja do zakresu 0-1 \n",
    "                image = np.array(image) / 255.0  \n",
    "                images.append(image)\n",
    "                #Przypisywanie etykiety na podstawie nazwy pliku \n",
    "                label = \"not_cloud\" if \"not_cloud\" in file else \"cloud\" \n",
    "                labels.append(label) \n",
    "    \n",
    "    return np.array(images), np.array(labels)           "
   ],
   "metadata": {
    "collapsed": false,
    "ExecuteTime": {
     "end_time": "2024-05-14T19:55:43.923069Z",
     "start_time": "2024-05-14T19:55:43.917087Z"
    }
   },
   "id": "c8dd6f60bdcf000f"
  },
  {
   "cell_type": "code",
   "execution_count": 18,
   "outputs": [],
   "source": [
    "# Wczytywanie obrazów i etykiet \n",
    "images, labels = load_images_and_labels(data_dir) "
   ],
   "metadata": {
    "collapsed": false,
    "ExecuteTime": {
     "end_time": "2024-05-14T19:55:56.425790Z",
     "start_time": "2024-05-14T19:55:46.967756Z"
    }
   },
   "id": "8b26ea7be591d79a"
  },
  {
   "cell_type": "code",
   "execution_count": 19,
   "outputs": [],
   "source": [
    "#Konwersja etyket na format numeryczny \n",
    "labels = np.array([0 if label == \"not_cloud\" else 1 for label in labels])"
   ],
   "metadata": {
    "collapsed": false,
    "ExecuteTime": {
     "end_time": "2024-05-14T19:55:58.489001Z",
     "start_time": "2024-05-14T19:55:58.485732Z"
    }
   },
   "id": "c02f3fc4266e29cb"
  },
  {
   "cell_type": "code",
   "execution_count": 20,
   "outputs": [
    {
     "name": "stdout",
     "output_type": "stream",
     "text": [
      "(array([0, 1]), array([ 2629, 44811]))\n"
     ]
    }
   ],
   "source": [
    "#Ile mamy wystąpień w każdej z klas? \n",
    "print(np.unique(labels,return_counts=True))"
   ],
   "metadata": {
    "collapsed": false,
    "ExecuteTime": {
     "end_time": "2024-05-14T19:55:59.148314Z",
     "start_time": "2024-05-14T19:55:59.140311Z"
    }
   },
   "id": "54272a539d0fe851"
  },
  {
   "cell_type": "markdown",
   "source": [
    "# Podział na dane treningowe, walidacyjne i testowe"
   ],
   "metadata": {
    "collapsed": false
   },
   "id": "8c3dc173017a31ee"
  },
  {
   "cell_type": "code",
   "execution_count": 22,
   "outputs": [],
   "source": [
    "from sklearn.model_selection import train_test_split \n",
    "\n",
    "# Najpierw dzielimy dane na część treningową i pozostałą \n",
    "train_images, temp_images, train_labels, temp_labels = train_test_split(\n",
    "    images, labels, test_size=0.30, random_state=42\n",
    ")\n",
    "# Pozostałą część dzielimy na zbiory walidacyjny i testowy \n",
    "val_images, test_images, val_labels, test_labels = train_test_split(\n",
    "    temp_images,temp_labels, test_size=0.50, random_state=42\n",
    ")\n"
   ],
   "metadata": {
    "collapsed": false,
    "ExecuteTime": {
     "end_time": "2024-05-14T20:12:24.700505Z",
     "start_time": "2024-05-14T20:12:22.307603Z"
    }
   },
   "id": "31b30ca97d861905"
  },
  {
   "cell_type": "code",
   "execution_count": 23,
   "outputs": [
    {
     "name": "stdout",
     "output_type": "stream",
     "text": [
      "Liczba obrazów treningowych: 33208\n",
      "Liczba obrazów walidacyjnych: 7116\n",
      "Liczba obrazów testowych: 7116\n"
     ]
    }
   ],
   "source": [
    "print(f\"Liczba obrazów treningowych: {len(train_images)}\") \n",
    "print(f\"Liczba obrazów walidacyjnych: {len(val_images)}\")  \n",
    "print(f\"Liczba obrazów testowych: {len(test_images)}\")"
   ],
   "metadata": {
    "collapsed": false,
    "ExecuteTime": {
     "end_time": "2024-05-14T20:14:23.066789Z",
     "start_time": "2024-05-14T20:14:23.057756Z"
    }
   },
   "id": "e611cb2d343b67a0"
  },
  {
   "cell_type": "markdown",
   "source": [
    "# Model 1\n",
    "## Bez balansu klasowego"
   ],
   "metadata": {
    "collapsed": false
   },
   "id": "78f4d30e1f060688"
  },
  {
   "cell_type": "code",
   "execution_count": 24,
   "outputs": [],
   "source": [
    "from keras.api.models import Sequential \n",
    "from keras.api.layers import Conv2D, MaxPooling2D, Flatten, Dense\n",
    "# Budowanie modelu\n",
    "model = Sequential([\n",
    "    Conv2D(32, (3, 3), activation='relu', input_shape=(100, 100, 1)),\n",
    "    MaxPooling2D((2, 2)),\n",
    "    Conv2D(64, (3, 3), activation='relu'),\n",
    "    MaxPooling2D((2, 2)),\n",
    "    Flatten(),\n",
    "    Dense(64, activation='relu'),\n",
    "    Dense(1, activation='sigmoid')\n",
    "])"
   ],
   "metadata": {
    "collapsed": false,
    "ExecuteTime": {
     "end_time": "2024-05-14T20:23:27.700232Z",
     "start_time": "2024-05-14T20:23:27.571030Z"
    }
   },
   "id": "c6be718fe4bfe916"
  },
  {
   "cell_type": "code",
   "execution_count": 25,
   "outputs": [],
   "source": [
    "\n",
    "# Kompilacja modelu \n",
    "model.compile(optimizer=\"adam\",loss=\"binary_crossentropy\",metrics=[\"accuracy\"])"
   ],
   "metadata": {
    "collapsed": false,
    "ExecuteTime": {
     "end_time": "2024-05-14T20:25:22.696635Z",
     "start_time": "2024-05-14T20:25:22.684752Z"
    }
   },
   "id": "317f116ced139af8"
  },
  {
   "cell_type": "code",
   "execution_count": 28,
   "outputs": [
    {
     "data": {
      "text/plain": "\u001B[1mModel: \"sequential\"\u001B[0m\n",
      "text/html": "<pre style=\"white-space:pre;overflow-x:auto;line-height:normal;font-family:Menlo,'DejaVu Sans Mono',consolas,'Courier New',monospace\"><span style=\"font-weight: bold\">Model: \"sequential\"</span>\n</pre>\n"
     },
     "metadata": {},
     "output_type": "display_data"
    },
    {
     "data": {
      "text/plain": "┏━━━━━━━━━━━━━━━━━━━━━━━━━━━━━━━━━┳━━━━━━━━━━━━━━━━━━━━━━━━┳━━━━━━━━━━━━━━━┓\n┃\u001B[1m \u001B[0m\u001B[1mLayer (type)                   \u001B[0m\u001B[1m \u001B[0m┃\u001B[1m \u001B[0m\u001B[1mOutput Shape          \u001B[0m\u001B[1m \u001B[0m┃\u001B[1m \u001B[0m\u001B[1m      Param #\u001B[0m\u001B[1m \u001B[0m┃\n┡━━━━━━━━━━━━━━━━━━━━━━━━━━━━━━━━━╇━━━━━━━━━━━━━━━━━━━━━━━━╇━━━━━━━━━━━━━━━┩\n│ conv2d (\u001B[38;5;33mConv2D\u001B[0m)                 │ (\u001B[38;5;45mNone\u001B[0m, \u001B[38;5;34m98\u001B[0m, \u001B[38;5;34m98\u001B[0m, \u001B[38;5;34m32\u001B[0m)     │           \u001B[38;5;34m320\u001B[0m │\n├─────────────────────────────────┼────────────────────────┼───────────────┤\n│ max_pooling2d (\u001B[38;5;33mMaxPooling2D\u001B[0m)    │ (\u001B[38;5;45mNone\u001B[0m, \u001B[38;5;34m49\u001B[0m, \u001B[38;5;34m49\u001B[0m, \u001B[38;5;34m32\u001B[0m)     │             \u001B[38;5;34m0\u001B[0m │\n├─────────────────────────────────┼────────────────────────┼───────────────┤\n│ conv2d_1 (\u001B[38;5;33mConv2D\u001B[0m)               │ (\u001B[38;5;45mNone\u001B[0m, \u001B[38;5;34m47\u001B[0m, \u001B[38;5;34m47\u001B[0m, \u001B[38;5;34m64\u001B[0m)     │        \u001B[38;5;34m18,496\u001B[0m │\n├─────────────────────────────────┼────────────────────────┼───────────────┤\n│ max_pooling2d_1 (\u001B[38;5;33mMaxPooling2D\u001B[0m)  │ (\u001B[38;5;45mNone\u001B[0m, \u001B[38;5;34m23\u001B[0m, \u001B[38;5;34m23\u001B[0m, \u001B[38;5;34m64\u001B[0m)     │             \u001B[38;5;34m0\u001B[0m │\n├─────────────────────────────────┼────────────────────────┼───────────────┤\n│ flatten (\u001B[38;5;33mFlatten\u001B[0m)               │ (\u001B[38;5;45mNone\u001B[0m, \u001B[38;5;34m33856\u001B[0m)          │             \u001B[38;5;34m0\u001B[0m │\n├─────────────────────────────────┼────────────────────────┼───────────────┤\n│ dense (\u001B[38;5;33mDense\u001B[0m)                   │ (\u001B[38;5;45mNone\u001B[0m, \u001B[38;5;34m64\u001B[0m)             │     \u001B[38;5;34m2,166,848\u001B[0m │\n├─────────────────────────────────┼────────────────────────┼───────────────┤\n│ dense_1 (\u001B[38;5;33mDense\u001B[0m)                 │ (\u001B[38;5;45mNone\u001B[0m, \u001B[38;5;34m1\u001B[0m)              │            \u001B[38;5;34m65\u001B[0m │\n└─────────────────────────────────┴────────────────────────┴───────────────┘\n",
      "text/html": "<pre style=\"white-space:pre;overflow-x:auto;line-height:normal;font-family:Menlo,'DejaVu Sans Mono',consolas,'Courier New',monospace\">┏━━━━━━━━━━━━━━━━━━━━━━━━━━━━━━━━━┳━━━━━━━━━━━━━━━━━━━━━━━━┳━━━━━━━━━━━━━━━┓\n┃<span style=\"font-weight: bold\"> Layer (type)                    </span>┃<span style=\"font-weight: bold\"> Output Shape           </span>┃<span style=\"font-weight: bold\">       Param # </span>┃\n┡━━━━━━━━━━━━━━━━━━━━━━━━━━━━━━━━━╇━━━━━━━━━━━━━━━━━━━━━━━━╇━━━━━━━━━━━━━━━┩\n│ conv2d (<span style=\"color: #0087ff; text-decoration-color: #0087ff\">Conv2D</span>)                 │ (<span style=\"color: #00d7ff; text-decoration-color: #00d7ff\">None</span>, <span style=\"color: #00af00; text-decoration-color: #00af00\">98</span>, <span style=\"color: #00af00; text-decoration-color: #00af00\">98</span>, <span style=\"color: #00af00; text-decoration-color: #00af00\">32</span>)     │           <span style=\"color: #00af00; text-decoration-color: #00af00\">320</span> │\n├─────────────────────────────────┼────────────────────────┼───────────────┤\n│ max_pooling2d (<span style=\"color: #0087ff; text-decoration-color: #0087ff\">MaxPooling2D</span>)    │ (<span style=\"color: #00d7ff; text-decoration-color: #00d7ff\">None</span>, <span style=\"color: #00af00; text-decoration-color: #00af00\">49</span>, <span style=\"color: #00af00; text-decoration-color: #00af00\">49</span>, <span style=\"color: #00af00; text-decoration-color: #00af00\">32</span>)     │             <span style=\"color: #00af00; text-decoration-color: #00af00\">0</span> │\n├─────────────────────────────────┼────────────────────────┼───────────────┤\n│ conv2d_1 (<span style=\"color: #0087ff; text-decoration-color: #0087ff\">Conv2D</span>)               │ (<span style=\"color: #00d7ff; text-decoration-color: #00d7ff\">None</span>, <span style=\"color: #00af00; text-decoration-color: #00af00\">47</span>, <span style=\"color: #00af00; text-decoration-color: #00af00\">47</span>, <span style=\"color: #00af00; text-decoration-color: #00af00\">64</span>)     │        <span style=\"color: #00af00; text-decoration-color: #00af00\">18,496</span> │\n├─────────────────────────────────┼────────────────────────┼───────────────┤\n│ max_pooling2d_1 (<span style=\"color: #0087ff; text-decoration-color: #0087ff\">MaxPooling2D</span>)  │ (<span style=\"color: #00d7ff; text-decoration-color: #00d7ff\">None</span>, <span style=\"color: #00af00; text-decoration-color: #00af00\">23</span>, <span style=\"color: #00af00; text-decoration-color: #00af00\">23</span>, <span style=\"color: #00af00; text-decoration-color: #00af00\">64</span>)     │             <span style=\"color: #00af00; text-decoration-color: #00af00\">0</span> │\n├─────────────────────────────────┼────────────────────────┼───────────────┤\n│ flatten (<span style=\"color: #0087ff; text-decoration-color: #0087ff\">Flatten</span>)               │ (<span style=\"color: #00d7ff; text-decoration-color: #00d7ff\">None</span>, <span style=\"color: #00af00; text-decoration-color: #00af00\">33856</span>)          │             <span style=\"color: #00af00; text-decoration-color: #00af00\">0</span> │\n├─────────────────────────────────┼────────────────────────┼───────────────┤\n│ dense (<span style=\"color: #0087ff; text-decoration-color: #0087ff\">Dense</span>)                   │ (<span style=\"color: #00d7ff; text-decoration-color: #00d7ff\">None</span>, <span style=\"color: #00af00; text-decoration-color: #00af00\">64</span>)             │     <span style=\"color: #00af00; text-decoration-color: #00af00\">2,166,848</span> │\n├─────────────────────────────────┼────────────────────────┼───────────────┤\n│ dense_1 (<span style=\"color: #0087ff; text-decoration-color: #0087ff\">Dense</span>)                 │ (<span style=\"color: #00d7ff; text-decoration-color: #00d7ff\">None</span>, <span style=\"color: #00af00; text-decoration-color: #00af00\">1</span>)              │            <span style=\"color: #00af00; text-decoration-color: #00af00\">65</span> │\n└─────────────────────────────────┴────────────────────────┴───────────────┘\n</pre>\n"
     },
     "metadata": {},
     "output_type": "display_data"
    },
    {
     "data": {
      "text/plain": "\u001B[1m Total params: \u001B[0m\u001B[38;5;34m2,185,729\u001B[0m (8.34 MB)\n",
      "text/html": "<pre style=\"white-space:pre;overflow-x:auto;line-height:normal;font-family:Menlo,'DejaVu Sans Mono',consolas,'Courier New',monospace\"><span style=\"font-weight: bold\"> Total params: </span><span style=\"color: #00af00; text-decoration-color: #00af00\">2,185,729</span> (8.34 MB)\n</pre>\n"
     },
     "metadata": {},
     "output_type": "display_data"
    },
    {
     "data": {
      "text/plain": "\u001B[1m Trainable params: \u001B[0m\u001B[38;5;34m2,185,729\u001B[0m (8.34 MB)\n",
      "text/html": "<pre style=\"white-space:pre;overflow-x:auto;line-height:normal;font-family:Menlo,'DejaVu Sans Mono',consolas,'Courier New',monospace\"><span style=\"font-weight: bold\"> Trainable params: </span><span style=\"color: #00af00; text-decoration-color: #00af00\">2,185,729</span> (8.34 MB)\n</pre>\n"
     },
     "metadata": {},
     "output_type": "display_data"
    },
    {
     "data": {
      "text/plain": "\u001B[1m Non-trainable params: \u001B[0m\u001B[38;5;34m0\u001B[0m (0.00 B)\n",
      "text/html": "<pre style=\"white-space:pre;overflow-x:auto;line-height:normal;font-family:Menlo,'DejaVu Sans Mono',consolas,'Courier New',monospace\"><span style=\"font-weight: bold\"> Non-trainable params: </span><span style=\"color: #00af00; text-decoration-color: #00af00\">0</span> (0.00 B)\n</pre>\n"
     },
     "metadata": {},
     "output_type": "display_data"
    }
   ],
   "source": [
    "#Wyświetlenie struktury modelu \n",
    "model.summary()"
   ],
   "metadata": {
    "collapsed": false,
    "ExecuteTime": {
     "start_time": "2024-05-14T20:28:00.152770Z"
    }
   },
   "id": "8b5556be32d50e4a"
  },
  {
   "cell_type": "code",
   "execution_count": 30,
   "outputs": [],
   "source": [
    "# Dodanie callbacku do zapisywania\n",
    "from keras.api.callbacks import ModelCheckpoint \n",
    "\n",
    "model_checkpoint_callback = ModelCheckpoint(\n",
    "    filepath='model-{epoch:02d}-{val_accuracy:.2f}.keras',  # Nazwa pliku zapisu\n",
    "    save_weights_only=False,  # Zapisuje pełny model, nie tylko wagi\n",
    "    monitor='val_accuracy',  # Monitoruje dokładność na zbiorze walidacyjnym\n",
    "    mode='max',  # Mode 'max' ponieważ celujemy w maksymalizację dokładności\n",
    "    save_best_only=True,  # Zapisuje tylko, gdy dokładność jest lepsza niż dotychczas najlepsza\n",
    "    verbose=1  # Wyświetla informacje o zapisie\n",
    ")"
   ],
   "metadata": {
    "collapsed": false,
    "ExecuteTime": {
     "end_time": "2024-05-14T20:41:02.280402Z",
     "start_time": "2024-05-14T20:41:02.275095Z"
    }
   },
   "id": "52d538c223b6b8ea"
  },
  {
   "cell_type": "code",
   "execution_count": 31,
   "outputs": [
    {
     "name": "stdout",
     "output_type": "stream",
     "text": [
      "Epoch 1/10\n",
      "\u001B[1m1038/1038\u001B[0m \u001B[32m━━━━━━━━━━━━━━━━━━━━\u001B[0m\u001B[37m\u001B[0m \u001B[1m0s\u001B[0m 43ms/step - accuracy: 0.9451 - loss: 0.1692\n",
      "Epoch 1: val_accuracy improved from -inf to 0.95208, saving model to model-01-0.95.keras\n",
      "\u001B[1m1038/1038\u001B[0m \u001B[32m━━━━━━━━━━━━━━━━━━━━\u001B[0m\u001B[37m\u001B[0m \u001B[1m49s\u001B[0m 47ms/step - accuracy: 0.9451 - loss: 0.1692 - val_accuracy: 0.9521 - val_loss: 0.1347\n",
      "Epoch 2/10\n",
      "\u001B[1m1038/1038\u001B[0m \u001B[32m━━━━━━━━━━━━━━━━━━━━\u001B[0m\u001B[37m\u001B[0m \u001B[1m0s\u001B[0m 44ms/step - accuracy: 0.9618 - loss: 0.1088\n",
      "Epoch 2: val_accuracy improved from 0.95208 to 0.96585, saving model to model-02-0.97.keras\n",
      "\u001B[1m1038/1038\u001B[0m \u001B[32m━━━━━━━━━━━━━━━━━━━━\u001B[0m\u001B[37m\u001B[0m \u001B[1m48s\u001B[0m 46ms/step - accuracy: 0.9618 - loss: 0.1088 - val_accuracy: 0.9659 - val_loss: 0.1101\n",
      "Epoch 3/10\n",
      "\u001B[1m1038/1038\u001B[0m \u001B[32m━━━━━━━━━━━━━━━━━━━━\u001B[0m\u001B[37m\u001B[0m \u001B[1m0s\u001B[0m 44ms/step - accuracy: 0.9756 - loss: 0.0763\n",
      "Epoch 3: val_accuracy did not improve from 0.96585\n",
      "\u001B[1m1038/1038\u001B[0m \u001B[32m━━━━━━━━━━━━━━━━━━━━\u001B[0m\u001B[37m\u001B[0m \u001B[1m48s\u001B[0m 46ms/step - accuracy: 0.9756 - loss: 0.0763 - val_accuracy: 0.9535 - val_loss: 0.1133\n",
      "Epoch 4/10\n",
      "\u001B[1m1037/1038\u001B[0m \u001B[32m━━━━━━━━━━━━━━━━━━━\u001B[0m\u001B[37m━\u001B[0m \u001B[1m0s\u001B[0m 43ms/step - accuracy: 0.9762 - loss: 0.0738\n",
      "Epoch 4: val_accuracy improved from 0.96585 to 0.98539, saving model to model-04-0.99.keras\n",
      "\u001B[1m1038/1038\u001B[0m \u001B[32m━━━━━━━━━━━━━━━━━━━━\u001B[0m\u001B[37m\u001B[0m \u001B[1m47s\u001B[0m 46ms/step - accuracy: 0.9762 - loss: 0.0738 - val_accuracy: 0.9854 - val_loss: 0.0461\n",
      "Epoch 5/10\n",
      "\u001B[1m1038/1038\u001B[0m \u001B[32m━━━━━━━━━━━━━━━━━━━━\u001B[0m\u001B[37m\u001B[0m \u001B[1m0s\u001B[0m 45ms/step - accuracy: 0.9845 - loss: 0.0485\n",
      "Epoch 5: val_accuracy improved from 0.98539 to 0.98974, saving model to model-05-0.99.keras\n",
      "\u001B[1m1038/1038\u001B[0m \u001B[32m━━━━━━━━━━━━━━━━━━━━\u001B[0m\u001B[37m\u001B[0m \u001B[1m49s\u001B[0m 47ms/step - accuracy: 0.9845 - loss: 0.0485 - val_accuracy: 0.9897 - val_loss: 0.0394\n",
      "Epoch 6/10\n",
      "\u001B[1m1037/1038\u001B[0m \u001B[32m━━━━━━━━━━━━━━━━━━━\u001B[0m\u001B[37m━\u001B[0m \u001B[1m0s\u001B[0m 44ms/step - accuracy: 0.9869 - loss: 0.0389\n",
      "Epoch 6: val_accuracy improved from 0.98974 to 0.99143, saving model to model-06-0.99.keras\n",
      "\u001B[1m1038/1038\u001B[0m \u001B[32m━━━━━━━━━━━━━━━━━━━━\u001B[0m\u001B[37m\u001B[0m \u001B[1m49s\u001B[0m 47ms/step - accuracy: 0.9869 - loss: 0.0389 - val_accuracy: 0.9914 - val_loss: 0.0266\n",
      "Epoch 7/10\n",
      "\u001B[1m1037/1038\u001B[0m \u001B[32m━━━━━━━━━━━━━━━━━━━\u001B[0m\u001B[37m━\u001B[0m \u001B[1m0s\u001B[0m 44ms/step - accuracy: 0.9900 - loss: 0.0313\n",
      "Epoch 7: val_accuracy did not improve from 0.99143\n",
      "\u001B[1m1038/1038\u001B[0m \u001B[32m━━━━━━━━━━━━━━━━━━━━\u001B[0m\u001B[37m\u001B[0m \u001B[1m49s\u001B[0m 47ms/step - accuracy: 0.9900 - loss: 0.0313 - val_accuracy: 0.9892 - val_loss: 0.0429\n",
      "Epoch 8/10\n",
      "\u001B[1m1037/1038\u001B[0m \u001B[32m━━━━━━━━━━━━━━━━━━━\u001B[0m\u001B[37m━\u001B[0m \u001B[1m0s\u001B[0m 43ms/step - accuracy: 0.9909 - loss: 0.0303\n",
      "Epoch 8: val_accuracy improved from 0.99143 to 0.99424, saving model to model-08-0.99.keras\n",
      "\u001B[1m1038/1038\u001B[0m \u001B[32m━━━━━━━━━━━━━━━━━━━━\u001B[0m\u001B[37m\u001B[0m \u001B[1m47s\u001B[0m 46ms/step - accuracy: 0.9909 - loss: 0.0303 - val_accuracy: 0.9942 - val_loss: 0.0235\n",
      "Epoch 9/10\n",
      "\u001B[1m1038/1038\u001B[0m \u001B[32m━━━━━━━━━━━━━━━━━━━━\u001B[0m\u001B[37m\u001B[0m \u001B[1m0s\u001B[0m 43ms/step - accuracy: 0.9931 - loss: 0.0233\n",
      "Epoch 9: val_accuracy did not improve from 0.99424\n",
      "\u001B[1m1038/1038\u001B[0m \u001B[32m━━━━━━━━━━━━━━━━━━━━\u001B[0m\u001B[37m\u001B[0m \u001B[1m47s\u001B[0m 45ms/step - accuracy: 0.9931 - loss: 0.0233 - val_accuracy: 0.9934 - val_loss: 0.0224\n",
      "Epoch 10/10\n",
      "\u001B[1m1037/1038\u001B[0m \u001B[32m━━━━━━━━━━━━━━━━━━━\u001B[0m\u001B[37m━\u001B[0m \u001B[1m0s\u001B[0m 42ms/step - accuracy: 0.9929 - loss: 0.0220\n",
      "Epoch 10: val_accuracy did not improve from 0.99424\n",
      "\u001B[1m1038/1038\u001B[0m \u001B[32m━━━━━━━━━━━━━━━━━━━━\u001B[0m\u001B[37m\u001B[0m \u001B[1m47s\u001B[0m 45ms/step - accuracy: 0.9929 - loss: 0.0220 - val_accuracy: 0.9940 - val_loss: 0.0230\n"
     ]
    }
   ],
   "source": [
    "history = model.fit(\n",
    "    train_images, train_labels,\n",
    "    validation_data=(val_images, val_labels),\n",
    "    epochs=10,  # Liczba epok trenowania, można dostosować\n",
    "    callbacks=[model_checkpoint_callback]  # Dodanie callbacku do listy callbacków\n",
    ")"
   ],
   "metadata": {
    "collapsed": false,
    "ExecuteTime": {
     "end_time": "2024-05-14T20:49:49.102808Z",
     "start_time": "2024-05-14T20:41:40.040647Z"
    }
   },
   "id": "5c7141227abc2456"
  },
  {
   "cell_type": "code",
   "execution_count": null,
   "outputs": [],
   "source": [],
   "metadata": {
    "collapsed": false
   },
   "id": "8ae2bf79f2089fcb"
  }
 ],
 "metadata": {
  "kernelspec": {
   "display_name": "Python 3 (ipykernel)",
   "language": "python",
   "name": "python3"
  },
  "language_info": {
   "codemirror_mode": {
    "name": "ipython",
    "version": 3
   },
   "file_extension": ".py",
   "mimetype": "text/x-python",
   "name": "python",
   "nbconvert_exporter": "python",
   "pygments_lexer": "ipython3",
   "version": "3.9.6"
  }
 },
 "nbformat": 4,
 "nbformat_minor": 5
}
