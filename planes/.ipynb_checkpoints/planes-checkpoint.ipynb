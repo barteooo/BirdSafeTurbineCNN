{
 "cells": [
  {
   "cell_type": "markdown",
   "source": [
    "# Wstęp \n",
    "W notantiku przedstawiono analizę danych dla zbioru planes_assign. Zbiór zawierał dziewięć klas zdjęć. Przedstawiały one samoloty w różnych ujęciach lub inne obiekty (helikoptery itd). Klasy występujące w analizie to:\n",
    "'helicopter', 'not_assigned', 'not_plane', 'plane_common', 'plane_large', 'plane_partial', 'plane_too_far', 'plane_with_trail', 'something_strange'. \n",
    "\n",
    "\n",
    "Celem analizy było utworzenie modeli pozwalających na rozróżnianie tych klas. Pierwszym etapem analizy było wczytanie i przygotowanie danych, a następnie utworzenie i porównanie kilku modeli. Skupiono się na sieciach konwolucyjnych CNN i podejściach z balansem i bez balansu klasowego (modyfikajce wag dla klas). Przedstawiono również maodel wykorzystujący losowe modyfikacje obrazów celem poprawy jakości klasyfikacji. Wyniki zestawiono z wykorzystaniem macierzy pomyłek oraz raportu klasyfikacji."
   ],
   "metadata": {
    "collapsed": false
   },
   "id": "4d2479d885546cde"
  }
 ],
 "metadata": {
  "kernelspec": {
   "display_name": "Python 3",
   "language": "python",
   "name": "python3"
  },
  "language_info": {
   "codemirror_mode": {
    "name": "ipython",
    "version": 2
   },
   "file_extension": ".py",
   "mimetype": "text/x-python",
   "name": "python",
   "nbconvert_exporter": "python",
   "pygments_lexer": "ipython2",
   "version": "2.7.6"
  }
 },
 "nbformat": 4,
 "nbformat_minor": 5
}
